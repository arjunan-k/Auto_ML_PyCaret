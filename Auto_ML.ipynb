{
 "cells": [
  {
   "cell_type": "code",
   "execution_count": 9,
   "id": "2d2dbac3-4d0c-4e00-afd0-131e17e2b974",
   "metadata": {},
   "outputs": [],
   "source": [
    "from pycaret.classification import load_model\n",
    "from pycaret.regression import load_model"
   ]
  },
  {
   "cell_type": "code",
   "execution_count": 10,
   "id": "725c8e44-1174-4fdc-9022-326107e40a6b",
   "metadata": {},
   "outputs": [
    {
     "name": "stdout",
     "output_type": "stream",
     "text": [
      "Transformation Pipeline and Model Successfully Loaded\n"
     ]
    }
   ],
   "source": [
    "model = load_model(\"trained_model\")"
   ]
  },
  {
   "cell_type": "code",
   "execution_count": 11,
   "id": "24c554f5-1a5e-4c0b-ab3f-027a5c46a34e",
   "metadata": {},
   "outputs": [
    {
     "data": {
      "text/plain": [
       "Pipeline(steps=[('dtypes',\n",
       "                 DataTypes_Auto_infer(display_types=False,\n",
       "                                      ml_usecase='classification',\n",
       "                                      target='Transported')),\n",
       "                ('imputer',\n",
       "                 Simple_Imputer(categorical_strategy='not_available',\n",
       "                                fill_value_categorical=None,\n",
       "                                fill_value_numerical=None,\n",
       "                                numeric_strategy='mean',\n",
       "                                target_variable=None)),\n",
       "                ('new_levels1',\n",
       "                 New_Catagorical_Levels_in_TestData(replacement_strate...\n",
       "                ('binn', 'passthrough'), ('rem_outliers', 'passthrough'),\n",
       "                ('cluster_all', 'passthrough'),\n",
       "                ('dummy', Dummify(target='Transported')),\n",
       "                ('fix_perfect', Remove_100(target='Transported')),\n",
       "                ('clean_names', Clean_Colum_Names()),\n",
       "                ('feature_select', 'passthrough'), ('fix_multi', 'passthrough'),\n",
       "                ('dfs', 'passthrough'), ('pca', 'passthrough'),\n",
       "                ['trained_model', DecisionTreeClassifier(random_state=5940)]])"
      ]
     },
     "execution_count": 11,
     "metadata": {},
     "output_type": "execute_result"
    }
   ],
   "source": [
    "model"
   ]
  }
 ],
 "metadata": {
  "kernelspec": {
   "display_name": "auto_ml",
   "language": "python",
   "name": "auto_ml"
  },
  "language_info": {
   "codemirror_mode": {
    "name": "ipython",
    "version": 3
   },
   "file_extension": ".py",
   "mimetype": "text/x-python",
   "name": "python",
   "nbconvert_exporter": "python",
   "pygments_lexer": "ipython3",
   "version": "3.7.15"
  }
 },
 "nbformat": 4,
 "nbformat_minor": 5
}
